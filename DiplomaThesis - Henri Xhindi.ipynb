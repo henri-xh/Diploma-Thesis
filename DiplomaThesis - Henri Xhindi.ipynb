{
 "cells": [
  {
   "cell_type": "markdown",
   "id": "4d1b8d2f",
   "metadata": {},
   "source": [
    "<img src=\"image.png\" style=\"width:350px;height:70pz\"/>\n",
    "\n",
    "# Diploma Thesis\n",
    "## \"MOSFET modeling as a digital twin and use of Machine Learning models to find current leakage\"\n",
    "### Instructor: Charalampos Z. Patrikakis  👩‍🏫\n",
    "### Author: Ηenri Xhindi 👨‍🎓"
   ]
  },
  {
   "cell_type": "markdown",
   "id": "97c9ead2",
   "metadata": {},
   "source": [
    "### Purpose of work 📚\n",
    "Τhis work demostrates the potential of digital twins in the industry as well as how they can be simulated and trained with A.I. methods. \n",
    "Digital twin modeling does not necessarily need tools from data science or machine learning. However, it is prudent to use such modeling techniques wherever applicable and suitable. In our case we will make a digital twin of a MOSFET and later on we will use Deep Learning models on it. The target of this work is that by creating the digital twin, it can allows you to swap out an analytical model with an Machine Learning model (and vice versa).\n",
    "\n",
    "More precisely, with using an ML technique, we are going to predict the  Sub-Threshold leakage of a MOSFET, a phenomenon found in all MOSFETs. Later on, it is going to get discussed with more details.\n",
    "\n"
   ]
  },
  {
   "cell_type": "markdown",
   "id": "320e05ee",
   "metadata": {},
   "source": [
    "## A little bit of theory 🤓"
   ]
  },
  {
   "cell_type": "markdown",
   "id": "72508bee",
   "metadata": {},
   "source": [
    "#### Digital Twins  🧑🧑"
   ]
  },
  {
   "cell_type": "markdown",
   "id": "0a18fd39",
   "metadata": {},
   "source": [
    "Digital twins can be digital replicas-representations of physical objects, processes or services of the physical world, such as jet engines, wind farms, or even larger items such as buildings or even whole cities.\n",
    "As well as physical assets, digital twin objects can be used to replicate processes in order to collect data to predict how they will perform."
   ]
  },
  {
   "cell_type": "markdown",
   "id": "a28463cd",
   "metadata": {},
   "source": [
    "#### Machine Learning 🤖"
   ]
  },
  {
   "cell_type": "markdown",
   "id": "c55deb2b",
   "metadata": {},
   "source": [
    "Machine Learning is a subfield of computer science that is developed from the study of pattern recognition and computational learning theory in artificial intelligence. Machine learning explores the study and construction of algorithms that can learn from data and make predictions about it. This kind of algorithms work by building models from experimental data in order to make predictions."
   ]
  },
  {
   "cell_type": "markdown",
   "id": "65ea89a0",
   "metadata": {},
   "source": [
    "#### Deep Learning 🧠"
   ]
  },
  {
   "cell_type": "markdown",
   "id": "03303637",
   "metadata": {},
   "source": [
    "Deep learning is a type of machine learning based on artificial neural networks that imitates the way humans gain certain types of knowledge. Deep learning is an important element of data science, which includes statistics and predictive modeling. We will use Deep Learning methods on this project in ourder to train our digital twin."
   ]
  },
  {
   "cell_type": "markdown",
   "id": "045a0d6e",
   "metadata": {},
   "source": [
    "#### MOSFET  🖥️"
   ]
  },
  {
   "cell_type": "markdown",
   "id": "b21080ac",
   "metadata": {},
   "source": [
    "Transistors are semiconductor devices used to amplify or switch electrical signals and power. Also, they are one of the basic building blocks of modern electronics.\n",
    "Most modern transistors are Metal-Oxide-Semiconductor Field-Effect-Transistor (MOSFET). Basically, MOSFET is a device made of metal and semiconductor layers (usually silicon-Si or germanium-Ge) that sandwich an electrical insulator material layer in between (usually a thin oxide)."
   ]
  },
  {
   "cell_type": "markdown",
   "id": "eb937b9e",
   "metadata": {},
   "source": [
    "<img src=\"MOSFET_Structure.png\" style=\"width:350px;height:70pz\"/>\n"
   ]
  },
  {
   "cell_type": "markdown",
   "id": "fb435943",
   "metadata": {},
   "source": [
    "Practically the MOSFET is a digital switch.To be more precise, if the voltage between Gate (G) and Source (S) is below a certain threshold, then the switch is OFF (0-zero) and no current flows between the Drain and Source. In contrary when the Gate (G) to Source (S) voltage is above this threshold, the switch is ON (1-one). Furthermore, the Drain (D) to Source (S) current is also determined by the voltage between them.\n",
    "So, the fundamental utility of a MOSFET is as a voltage-controlled switch i.e. we can control the amount of current (or information) between two of its terminals by controlling the voltage on the third terminal."
   ]
  },
  {
   "cell_type": "markdown",
   "id": "2bed4f2b",
   "metadata": {},
   "source": [
    "### Characteristics we want to model\n"
   ]
  },
  {
   "cell_type": "markdown",
   "id": "b3bb8b5b",
   "metadata": {},
   "source": [
    "When developing a digital twin, the characteristics we should consider is one of the most important parts of the development. This determines the complexity and data structure choice for our digital twin.\n",
    "\n",
    "In our project, for the sake of simplicity, we will consider modeling only the most bacics charecteristics. Although we can model all kinds of complex physics phenomena with the MOSFET structure, we will work with the drain-source current (Ids) and voltage (Vds) relationships in their simplest form.\n",
    "\n"
   ]
  },
  {
   "cell_type": "markdown",
   "id": "f751ac59",
   "metadata": {},
   "source": [
    "## Let the coding begin 👨‍💻"
   ]
  },
  {
   "cell_type": "markdown",
   "id": "157872ce",
   "metadata": {},
   "source": [
    "#### Importing the necessary libraries 📕"
   ]
  },
  {
   "cell_type": "code",
   "execution_count": 1,
   "id": "3f327f32",
   "metadata": {},
   "outputs": [],
   "source": [
    "import numpy as np\n",
    "import pandas as pd\n",
    "import tensorflow as tf\n",
    "import matplotlib.pyplot as plt \n",
    "import seaborn as sns\n",
    "from sklearn.model_selection import train_test_split\n",
    "from sklearn.preprocessing import MinMaxScaler, StandardScaler\n",
    "\n",
    "%matplotlib inline"
   ]
  },
  {
   "cell_type": "markdown",
   "id": "14396b36",
   "metadata": {},
   "source": [
    "#### Definition of constant - fixed parameters ⚡"
   ]
  },
  {
   "cell_type": "code",
   "execution_count": 2,
   "id": "303f4082",
   "metadata": {},
   "outputs": [],
   "source": [
    "# Function for sub-Vth(threshold leakage) calculation\n",
    "def sub_vth(W_L,Vgs,Vth,temp=300):\n",
    "    \n",
    "    # Initialization of parameters to simulate the measurement noise and manufacturing/material variability\n",
    "\n",
    "    # Electron charge\n",
    "    q = 1.60218e-19\n",
    "    \n",
    "    # Boltzman constant\n",
    "    k = 1.3806e-23\n",
    "    \n",
    "    \n",
    "    \n",
    "    # W_L & eta gets randomized to mimic material and manufacturing variability\n",
    "    # We are using the numpy library in order to achive that. \n",
    "    \n",
    "    # Capacitance factor\n",
    "    eta = 1.2+0.01*np.random.normal()\n",
    "    \n",
    "    # Mobility factor/coefficient\n",
    "    W_L = W_L*(1+0.01*np.random.normal())\n",
    "    \n",
    "    \n",
    "    return W_L*np.exp(q*(Vgs-Vth)/(eta*k*temp))"
   ]
  },
  {
   "cell_type": "markdown",
   "id": "1fbed0a8",
   "metadata": {},
   "source": [
    "#### Declaration of MOSFET class 📟"
   ]
  },
  {
   "cell_type": "code",
   "execution_count": 3,
   "id": "42dc466e",
   "metadata": {},
   "outputs": [],
   "source": [
    "class MOSFET:\n",
    "    def __init__(self,params=None,terminals=None):\n",
    "          \n",
    "        \"\"\"\n",
    "        The followings parameters are considered some of the most important parameters\n",
    "        of a generic MOSFET.\n",
    "    \n",
    "        Vth --> The threshold voltage between Gate and Source of the MOSFET in which is ON\n",
    "        gm  --> The convenience of the MOSFET to carry current between Drain and Source when it's ON\n",
    "        BV  --> The breakdown voltage shows how much voltage the MOSFET can hold between its Drain \n",
    "        and Source while it is in the OFF state.    \n",
    "        \"\"\"\n",
    "        \n",
    "        # Params\n",
    "        if params is None:\n",
    "            self._params_ = {'BV':20,\n",
    "                             'Vth':1.0,\n",
    "                             'gm':1e-2}\n",
    "        else:\n",
    "            self._params_ = params\n",
    "            \n",
    "            \n",
    "        \n",
    "        # Terminals\n",
    "        if terminals is None:\n",
    "            self._terminals_ = {'Source':0.0,\n",
    "                        'Drain':0.0,\n",
    "                        'Gate':0.0}\n",
    "        else:\n",
    "            self._terminals_ = terminals\n",
    "            \n",
    "        \n",
    "        # Determine state\n",
    "        self._state_ = self.determine_state()\n",
    "        \n",
    "        # Leakage model trained?\n",
    "        self._leakage_ = False\n",
    "        self.leakage_model = None\n",
    "        \n",
    "#-------------------------------------------------------------------------\n",
    "## With the following method we can describe the object in one line.\n",
    "\n",
    "    def __repr__(self):\n",
    "        return \"MOSFET's Digital Twin\"\n",
    "\n",
    "    \n",
    "#-------------------------------------------------------------------------    \n",
    "## With the following method we can determine the Switching State (ON/OFF) of the MOSFET.\n",
    "\n",
    "    def determine_state(self,Vgs=None):\n",
    "\n",
    "        if Vgs is None:\n",
    "            Vgs = self._terminals_['Gate'] - self._terminals_['Source']\n",
    "        else:\n",
    "            Vgs = Vgs\n",
    "        if Vgs > self._params_['Vth']:\n",
    "            return 'ON'\n",
    "        else:\n",
    "            return 'OFF'\n",
    "\n",
    "        \n",
    "#-------------------------------------------------------------------------    \n",
    "## Calculation of the Drain-Source Current of the MOSFET using the terminal voltages and gm.\n",
    "\n",
    "    def Id_Vd(self,Vgs=None,Vds=None,rounding=True):\n",
    "       \n",
    "        if Vds is None:\n",
    "            Vds = self._terminals_['Drain'] - self._terminals_['Source']\n",
    "        else:\n",
    "            Vds = Vds\n",
    "        if Vgs is None:\n",
    "            Vgs = self._terminals_['Gate'] - self._terminals_['Source']\n",
    "        else:\n",
    "            Vgs = Vgs\n",
    "        \n",
    "        Vth = self._params_['Vth']\n",
    "        state = self.determine_state(Vgs=Vgs)\n",
    "        self._state_ = state\n",
    "        \n",
    "        if state=='ON':\n",
    "            if Vds <= Vgs - Vth:\n",
    "                Ids = self._params_['gm']*(Vgs - Vth - (Vds/2))*Vds\n",
    "            else:\n",
    "                Ids = (self._params_['gm']/2)*(Vgs-Vth)**2\n",
    "            if rounding:\n",
    "                return round(Ids,3)\n",
    "            else:\n",
    "                return Ids\n",
    "        else:\n",
    "            return sub_vth(W_L=self._params_['gm'],\n",
    "                           Vgs=Vgs,\n",
    "                           Vth=Vth)\n",
    "        \n",
    "\n",
    "#-------------------------------------------------------------------------    \n",
    "## Calculates Rdson i.e. on-state resistance of the MOSFET\n",
    "\n",
    "\n",
    "    def rdson(self,Vgs=None,Vds=None):\n",
    "\n",
    "        if Vds is None:\n",
    "            Vds = self._terminals_['Drain'] - self._terminals_['Source']\n",
    "        else:\n",
    "            Vds = Vds\n",
    "        if Vgs is None:\n",
    "            Vgs = self._terminals_['Gate'] - self._terminals_['Source']\n",
    "        else:\n",
    "            Vgs = Vgs\n",
    "        \n",
    "        Ids = self.Id_Vd(Vgs=Vgs,Vds=Vds,rounding=False)\n",
    "        Vds_delta = Vds+0.001\n",
    "        Ids_delta = self.Id_Vd(Vgs=Vgs,Vds=Vds_delta,rounding=False)\n",
    "        rdson = 0.001/(Ids_delta-Ids)\n",
    "        \n",
    "        return round(rdson,3)\n",
    "    \n",
    "    \n",
    "#-------------------------------------------------------------------------    \n",
    "## Training of our model with Deep Learning \n",
    "## Now we are going to train the digital twin as a model with leakage current using experimental data.\n",
    "\n",
    "\n",
    "    def train_leakage(self,data=None,\n",
    "                      batch_size=5,\n",
    "                      epochs=20,\n",
    "                      learning_rate=2e-5,\n",
    "                      verbose=1):\n",
    "\n",
    "        \"\"\"\n",
    "            data          --> the training data (Pandas DataFrame)\n",
    "            batch_size    --> training batch size\n",
    "            epochs        --> No. of epochs \n",
    "            learning_rate --> learning rate \n",
    "            verbose       --> verbosity of display while training\n",
    "        \"\"\"\n",
    "                                    \n",
    "        if data is None:\n",
    "            return \"No data available for training\"\n",
    "        X_train_scaled, X_test_scaled, y_train_scaled, y_test_scaled = prepare_data(data,\n",
    "                                                input_cols=['W_L','Vgs','Vth'],\n",
    "                                                output_var='log-leakage',\n",
    "                                                        scaley=False)\n",
    "        \n",
    "        # Deep-learning model\n",
    "        model = build_model(num_layers=3,\n",
    "                            architecture=[32,32,32],\n",
    "                            input_dim=3)\n",
    "        \n",
    "        # Compile and train\n",
    "        model_trained = compile_train_model(model,\n",
    "                                            X_train_scaled,\n",
    "                                            y_train_scaled,\n",
    "                                            batch_size=batch_size,\n",
    "                                            epochs=epochs,\n",
    "                                            learning_rate=learning_rate,\n",
    "                                            verbose=verbose)\n",
    "        \n",
    "        self.leakage_model = model_trained\n",
    "        self._leakage_ = True\n",
    "                        \n",
    "                      \n",
    "#-------------------------------------------------------------------------                      \n",
    "## Separate leakage method to predict the sub-Vth leakage for any combination of transconductance, Vgs, and Vth as input.\n",
    "\n",
    "    def leakage(self,\n",
    "                W_L=1e-2,\n",
    "                Vgs=None,\n",
    "                Vth=None):\n",
    "                      \n",
    "        \"\"\"\n",
    "        Calculates leakage current using the deep learning model\n",
    "        \"\"\"\n",
    "                      \n",
    "        if not self._leakage_:\n",
    "            return \"Leakage model is not trained\"\n",
    "        # Vgs\n",
    "        if Vgs is None:\n",
    "            Vgs = self._terminals_['Gate'] - self._terminals_['Source']\n",
    "        else:\n",
    "            Vgs = Vgs\n",
    "        # Vth\n",
    "        if Vth is None:\n",
    "            Vth = self._params_['Vth']\n",
    "        else:\n",
    "            Vth = Vth\n",
    "        # Predict\n",
    "        x = np.array([W_L,Vgs,Vth])\n",
    "        ip = x.reshape(-1,3)\n",
    "        result = float(10**(-self.leakage_model.predict(ip)))\n",
    "        \n",
    "        \n",
    "        return result"
   ]
  },
  {
   "cell_type": "markdown",
   "id": "0ac7197f",
   "metadata": {},
   "source": [
    "# CREATING A MOSFET OBJECT"
   ]
  },
  {
   "cell_type": "code",
   "execution_count": 4,
   "id": "ba1e7521",
   "metadata": {},
   "outputs": [],
   "source": [
    "mosfet = MOSFET()\n"
   ]
  },
  {
   "cell_type": "code",
   "execution_count": 5,
   "id": "55a10b20",
   "metadata": {},
   "outputs": [
    {
     "data": {
      "text/plain": [
       "MOSFET's Digital Twin"
      ]
     },
     "execution_count": 5,
     "metadata": {},
     "output_type": "execute_result"
    }
   ],
   "source": [
    "mosfet\n"
   ]
  },
  {
   "cell_type": "code",
   "execution_count": 6,
   "id": "cde3fdad",
   "metadata": {},
   "outputs": [
    {
     "data": {
      "text/plain": [
       "'OFF'"
      ]
     },
     "execution_count": 6,
     "metadata": {},
     "output_type": "execute_result"
    }
   ],
   "source": [
    "mosfet._state_\n"
   ]
  },
  {
   "cell_type": "code",
   "execution_count": 7,
   "id": "e5a68f15",
   "metadata": {},
   "outputs": [
    {
     "data": {
      "text/plain": [
       "{'BV': 20, 'Vth': 1.0, 'gm': 0.01}"
      ]
     },
     "execution_count": 7,
     "metadata": {},
     "output_type": "execute_result"
    }
   ],
   "source": [
    "mosfet._params_\n"
   ]
  },
  {
   "cell_type": "markdown",
   "id": "d7481dda",
   "metadata": {},
   "source": [
    "### Object state changes as terminal voltage assignment varies"
   ]
  },
  {
   "cell_type": "code",
   "execution_count": 8,
   "id": "c5d271d9",
   "metadata": {},
   "outputs": [],
   "source": [
    "mosfet = MOSFET(terminals={'Source':0.0,'Drain':0.0,'Gate':2.0}, \n",
    "           params={'BV':20,'Vth':1.0,'gm':1e-2})"
   ]
  },
  {
   "cell_type": "code",
   "execution_count": 9,
   "id": "eef39e19",
   "metadata": {},
   "outputs": [
    {
     "data": {
      "text/plain": [
       "'ON'"
      ]
     },
     "execution_count": 9,
     "metadata": {},
     "output_type": "execute_result"
    }
   ],
   "source": [
    "mosfet._state_\n"
   ]
  },
  {
   "cell_type": "code",
   "execution_count": 10,
   "id": "330bf46a",
   "metadata": {},
   "outputs": [],
   "source": [
    "mosfet = MOSFET(terminals={'Source':0.0,'Drain':0.0,'Gate':0.7},\n",
    "            params={'BV':20,'Vth':1.0,'gm':1e-2})"
   ]
  },
  {
   "cell_type": "code",
   "execution_count": 11,
   "id": "dc15610f",
   "metadata": {},
   "outputs": [
    {
     "data": {
      "text/plain": [
       "'OFF'"
      ]
     },
     "execution_count": 11,
     "metadata": {},
     "output_type": "execute_result"
    }
   ],
   "source": [
    "mosfet._state_\n"
   ]
  },
  {
   "cell_type": "markdown",
   "id": "5fb38db2",
   "metadata": {},
   "source": [
    "## Declaring Id-Vd values for the MOSFET"
   ]
  },
  {
   "cell_type": "code",
   "execution_count": 12,
   "id": "f4a4dbce",
   "metadata": {},
   "outputs": [
    {
     "data": {
      "text/plain": [
       "8.458106044849822e-14"
      ]
     },
     "execution_count": 12,
     "metadata": {},
     "output_type": "execute_result"
    }
   ],
   "source": [
    "# Drain-Source Current\n",
    "mosfet.Id_Vd(Vgs=0.2,Vds=2.0)"
   ]
  },
  {
   "cell_type": "code",
   "execution_count": 13,
   "id": "7a6366cf",
   "metadata": {},
   "outputs": [
    {
     "data": {
      "text/plain": [
       "0.009"
      ]
     },
     "execution_count": 13,
     "metadata": {},
     "output_type": "execute_result"
    }
   ],
   "source": [
    "# Drain-Source Current\n",
    "mosfet.Id_Vd(Vgs=3.0,Vds=0.5)"
   ]
  },
  {
   "cell_type": "code",
   "execution_count": 14,
   "id": "1b51a071",
   "metadata": {},
   "outputs": [
    {
     "data": {
      "text/plain": [
       "0.015"
      ]
     },
     "execution_count": 14,
     "metadata": {},
     "output_type": "execute_result"
    }
   ],
   "source": [
    "# Drain-Source Current\n",
    "mosfet.Id_Vd(Vgs=3.0,Vds=1.0)"
   ]
  },
  {
   "cell_type": "code",
   "execution_count": 15,
   "id": "0fef5a63",
   "metadata": {},
   "outputs": [
    {
     "data": {
      "text/plain": [
       "0.02"
      ]
     },
     "execution_count": 15,
     "metadata": {},
     "output_type": "execute_result"
    }
   ],
   "source": [
    "# Drain-Source Current\n",
    "mosfet.Id_Vd(Vgs=3.0,Vds=3.0)"
   ]
  },
  {
   "cell_type": "code",
   "execution_count": 16,
   "id": "8657bedb",
   "metadata": {},
   "outputs": [
    {
     "data": {
      "text/plain": [
       "0.02"
      ]
     },
     "execution_count": 16,
     "metadata": {},
     "output_type": "execute_result"
    }
   ],
   "source": [
    "# Drain-Source Current\n",
    "mosfet.Id_Vd(Vgs=3.0,Vds=4.0)"
   ]
  },
  {
   "cell_type": "code",
   "execution_count": 17,
   "id": "d30a246e",
   "metadata": {},
   "outputs": [
    {
     "data": {
      "text/plain": [
       "'ON'"
      ]
     },
     "execution_count": 17,
     "metadata": {},
     "output_type": "execute_result"
    }
   ],
   "source": [
    "mosfet._state_"
   ]
  },
  {
   "cell_type": "code",
   "execution_count": 18,
   "id": "b9497a2d",
   "metadata": {},
   "outputs": [
    {
     "data": {
      "text/plain": [
       "66.689"
      ]
     },
     "execution_count": 18,
     "metadata": {},
     "output_type": "execute_result"
    }
   ],
   "source": [
    "# On-state Resistance\n",
    "mosfet.rdson(Vgs=3.0,Vds=0.5)"
   ]
  },
  {
   "cell_type": "code",
   "execution_count": 19,
   "id": "bafd9b92",
   "metadata": {},
   "outputs": [
    {
     "data": {
      "text/plain": [
       "71.454"
      ]
     },
     "execution_count": 19,
     "metadata": {},
     "output_type": "execute_result"
    }
   ],
   "source": [
    "# On-state Resistance\n",
    "mosfet.rdson(Vgs=3.0,Vds=0.6)"
   ]
  },
  {
   "cell_type": "code",
   "execution_count": 20,
   "id": "a810836c",
   "metadata": {},
   "outputs": [
    {
     "data": {
      "text/plain": [
       "40.008"
      ]
     },
     "execution_count": 20,
     "metadata": {},
     "output_type": "execute_result"
    }
   ],
   "source": [
    "# On-state Resistance\n",
    "mosfet.rdson(Vgs=5.0,Vds=1.5)"
   ]
  },
  {
   "cell_type": "markdown",
   "id": "8750c290",
   "metadata": {},
   "source": [
    "## Current (Ids) - Voltage (Vds) Graph Characteristics"
   ]
  },
  {
   "cell_type": "markdown",
   "id": "7bb9b41d",
   "metadata": {},
   "source": [
    "- Graph for an ideal MOSFET "
   ]
  },
  {
   "cell_type": "code",
   "execution_count": 21,
   "id": "064f2163",
   "metadata": {},
   "outputs": [],
   "source": [
    "Ids = []\n",
    "mosfet = MOSFET()\n",
    "Vds_vals = [0.01*i for i in range(1,501)]\n",
    "for V in Vds_vals:\n",
    "    Ids.append(mosfet.Id_Vd(Vgs=3.0,Vds=V,rounding=False))"
   ]
  },
  {
   "cell_type": "code",
   "execution_count": 22,
   "id": "55de4a30",
   "metadata": {},
   "outputs": [
    {
     "data": {
      "image/png": "[encoded data removed]",
      "text/plain": [
       "<Figure size 600x400 with 1 Axes>"
      ]
     },
     "metadata": {
      "needs_background": "light"
     },
     "output_type": "display_data"
    }
   ],
   "source": [
    "plt.figure(dpi=100)\n",
    "plt.plot(Vds_vals,Ids)\n",
    "plt.xlabel(\"Vds (V)\",fontsize=10)\n",
    "plt.ylabel(\"Ids (A)\",fontsize=10)\n",
    "plt.show()"
   ]
  },
  {
   "cell_type": "markdown",
   "id": "30d88de8",
   "metadata": {},
   "source": [
    "- Graph of a more analytical model which contains Vgs (Voltage of Gate-Source)."
   ]
  },
  {
   "cell_type": "code",
   "execution_count": 23,
   "id": "d86e38bd",
   "metadata": {},
   "outputs": [
    {
     "data": {
      "image/png": "[encoded data removed]",
      "text/plain": [
       "<Figure size 600x400 with 1 Axes>"
      ]
     },
     "metadata": {
      "needs_background": "light"
     },
     "output_type": "display_data"
    }
   ],
   "source": [
    "m = MOSFET()\n",
    "plt.figure(dpi=100)\n",
    "for Vgs in [0.5,0.9,1.5,2.0,2.5]:\n",
    "    Ids = []\n",
    "    Vds_vals = [0.01*i for i in range(1,501)]\n",
    "    for V in Vds_vals:\n",
    "        Ids.append(m.Id_Vd(Vgs=Vgs,Vds=V,rounding=False))\n",
    "    plt.plot(Vds_vals,Ids)\n",
    "plt.legend([\"Vgs = \"+str(V) for V in [0.5,1.0,1.5,2.0,2.5]])\n",
    "plt.xlabel(\"Vds (V)\",fontsize=10)\n",
    "plt.ylabel(\"Ids (A)\",fontsize=10)\n",
    "plt.show()"
   ]
  },
  {
   "cell_type": "markdown",
   "id": "7d227fc2",
   "metadata": {},
   "source": [
    "## Importing the Sub-Vth leakage of a MOSFET"
   ]
  },
  {
   "cell_type": "markdown",
   "id": "8a9353fc",
   "metadata": {},
   "source": [
    "The ideal MOSFET, when in OFF state (Vgs is below Vth), must carry zero current between Drain & Source. However, in the reality, due to quantum mechanics, a real MOSFET carries a small amount of ‘leakage’ current even in the OFF state.\n",
    "\n",
    "For that case, we are going to calculate this current using some ML algorithms and a DNN (deep neural network).\n",
    "\n"
   ]
  },
  {
   "cell_type": "code",
   "execution_count": 24,
   "id": "380e093d",
   "metadata": {},
   "outputs": [
    {
     "data": {
      "text/plain": [
       "'No data available for training'"
      ]
     },
     "execution_count": 24,
     "metadata": {},
     "output_type": "execute_result"
    }
   ],
   "source": [
    "mosfet.train_leakage()\n"
   ]
  },
  {
   "cell_type": "code",
   "execution_count": 25,
   "id": "a39733bd",
   "metadata": {},
   "outputs": [
    {
     "data": {
      "image/png": "[encoded data removed]",
      "text/plain": [
       "<Figure size 432x288 with 1 Axes>"
      ]
     },
     "metadata": {
      "needs_background": "light"
     },
     "output_type": "display_data"
    }
   ],
   "source": [
    "sub = []\n",
    "Vgs = []\n",
    "for i in range(100):\n",
    "    sub.append(sub_vth(W_L=1e-2,Vgs=i*0.01,Vth=1.0))\n",
    "    Vgs.append(i*0.01)\n",
    "\n",
    "plt.semilogy(Vgs,sub)\n",
    "plt.xlabel(\"Vgs \",fontsize=10)\n",
    "plt.ylabel(\"sub \",fontsize=10)\n",
    "plt.show()"
   ]
  },
  {
   "cell_type": "markdown",
   "id": "48ee43f4",
   "metadata": {},
   "source": [
    "## Importing Synthetic leakage data - Data exploratory"
   ]
  },
  {
   "cell_type": "code",
   "execution_count": 26,
   "id": "c6758ed5",
   "metadata": {},
   "outputs": [],
   "source": [
    "from itertools import product"
   ]
  },
  {
   "cell_type": "code",
   "execution_count": 27,
   "id": "91e4e8d5",
   "metadata": {},
   "outputs": [],
   "source": [
    "W_L_list = [1e-3*i for i in range(1,21)]\n",
    "Vgs_list = [0.01*i for i in range(1,91)]\n",
    "Vth_list = [0.05*i for i in range(21,31)]"
   ]
  },
  {
   "cell_type": "code",
   "execution_count": 28,
   "id": "34755f44",
   "metadata": {},
   "outputs": [],
   "source": [
    "comb = list(product(W_L_list,Vgs_list,Vth_list))"
   ]
  },
  {
   "cell_type": "code",
   "execution_count": 29,
   "id": "d6ef18e8",
   "metadata": {},
   "outputs": [],
   "source": [
    "data_dict = {'W_L':[],'Vgs':[],'Vth':[],'sub-Vth':[]}\n",
    "for c in comb:\n",
    "    data_dict['W_L'].append(c[0])\n",
    "    data_dict['Vgs'].append(c[1])\n",
    "    data_dict['Vth'].append(c[2])\n",
    "    data_dict['sub-Vth'].append(sub_vth(c[0],c[1],c[2]))"
   ]
  },
  {
   "cell_type": "code",
   "execution_count": 30,
   "id": "2c1b4f7b",
   "metadata": {},
   "outputs": [],
   "source": [
    "data = pd.DataFrame(data=data_dict,columns=['W_L','Vgs','Vth','sub-Vth'])\n"
   ]
  },
  {
   "cell_type": "code",
   "execution_count": 31,
   "id": "035a48b2",
   "metadata": {},
   "outputs": [
    {
     "data": {
      "text/html": [
       "<div>\n",
       "<style scoped>\n",
       "    .dataframe tbody tr th:only-of-type {\n",
       "        vertical-align: middle;\n",
       "    }\n",
       "\n",
       "    .dataframe tbody tr th {\n",
       "        vertical-align: top;\n",
       "    }\n",
       "\n",
       "    .dataframe thead th {\n",
       "        text-align: right;\n",
       "    }\n",
       "</style>\n",
       "<table border=\"1\" class=\"dataframe\">\n",
       "  <thead>\n",
       "    <tr style=\"text-align: right;\">\n",
       "      <th></th>\n",
       "      <th>8051</th>\n",
       "      <th>17144</th>\n",
       "      <th>635</th>\n",
       "      <th>9966</th>\n",
       "      <th>15177</th>\n",
       "      <th>2483</th>\n",
       "      <th>4578</th>\n",
       "    </tr>\n",
       "  </thead>\n",
       "  <tbody>\n",
       "    <tr>\n",
       "      <th>W_L</th>\n",
       "      <td>0.009000</td>\n",
       "      <td>2.000000e-02</td>\n",
       "      <td>1.000000e-03</td>\n",
       "      <td>1.200000e-02</td>\n",
       "      <td>1.700000e-02</td>\n",
       "      <td>3.000000e-03</td>\n",
       "      <td>6.000000e-03</td>\n",
       "    </tr>\n",
       "    <tr>\n",
       "      <th>Vgs</th>\n",
       "      <td>0.860000</td>\n",
       "      <td>5.000000e-02</td>\n",
       "      <td>6.400000e-01</td>\n",
       "      <td>7.000000e-02</td>\n",
       "      <td>7.800000e-01</td>\n",
       "      <td>6.900000e-01</td>\n",
       "      <td>8.000000e-02</td>\n",
       "    </tr>\n",
       "    <tr>\n",
       "      <th>Vth</th>\n",
       "      <td>1.100000</td>\n",
       "      <td>1.250000e+00</td>\n",
       "      <td>1.300000e+00</td>\n",
       "      <td>1.350000e+00</td>\n",
       "      <td>1.400000e+00</td>\n",
       "      <td>1.200000e+00</td>\n",
       "      <td>1.450000e+00</td>\n",
       "    </tr>\n",
       "    <tr>\n",
       "      <th>sub-Vth</th>\n",
       "      <td>0.000003</td>\n",
       "      <td>3.873895e-19</td>\n",
       "      <td>5.769680e-13</td>\n",
       "      <td>2.088222e-20</td>\n",
       "      <td>4.566542e-11</td>\n",
       "      <td>2.077474e-10</td>\n",
       "      <td>3.649449e-22</td>\n",
       "    </tr>\n",
       "  </tbody>\n",
       "</table>\n",
       "</div>"
      ],
      "text/plain": [
       "            8051          17144         635           9966          15177  \\\n",
       "W_L      0.009000  2.000000e-02  1.000000e-03  1.200000e-02  1.700000e-02   \n",
       "Vgs      0.860000  5.000000e-02  6.400000e-01  7.000000e-02  7.800000e-01   \n",
       "Vth      1.100000  1.250000e+00  1.300000e+00  1.350000e+00  1.400000e+00   \n",
       "sub-Vth  0.000003  3.873895e-19  5.769680e-13  2.088222e-20  4.566542e-11   \n",
       "\n",
       "                2483          4578   \n",
       "W_L      3.000000e-03  6.000000e-03  \n",
       "Vgs      6.900000e-01  8.000000e-02  \n",
       "Vth      1.200000e+00  1.450000e+00  \n",
       "sub-Vth  2.077474e-10  3.649449e-22  "
      ]
     },
     "execution_count": 31,
     "metadata": {},
     "output_type": "execute_result"
    }
   ],
   "source": [
    "# seventh (7th) row(sample) \n",
    "data.sample(7).T"
   ]
  },
  {
   "cell_type": "code",
   "execution_count": 32,
   "id": "bb74e2e2",
   "metadata": {},
   "outputs": [
    {
     "data": {
      "text/plain": [
       "(18000, 4)"
      ]
     },
     "execution_count": 32,
     "metadata": {},
     "output_type": "execute_result"
    }
   ],
   "source": [
    "# No. rows=samples, columns=features\n",
    "data.shape"
   ]
  },
  {
   "cell_type": "code",
   "execution_count": 33,
   "id": "ec24387d",
   "metadata": {},
   "outputs": [],
   "source": [
    "\"\"\"\n",
    "The exponentiation, raising to the power of 10, \n",
    "is because we supplied the negative 10-logarithm of actual \n",
    "leakage values as training targets to the DNN model. This was done to achieve \n",
    "faster convergence and higher accuracy.\n",
    "\"\"\"\n",
    "\n",
    "data['log-leakage'] = -np.log10(data['sub-Vth'])"
   ]
  },
  {
   "cell_type": "code",
   "execution_count": 34,
   "id": "08419a86",
   "metadata": {},
   "outputs": [
    {
     "data": {
      "text/plain": [
       "(18000, 5)"
      ]
     },
     "execution_count": 34,
     "metadata": {},
     "output_type": "execute_result"
    }
   ],
   "source": [
    "# No. rows=samples, columns=features\n",
    "data.shape"
   ]
  },
  {
   "cell_type": "code",
   "execution_count": 35,
   "id": "2f436e95",
   "metadata": {},
   "outputs": [
    {
     "data": {
      "text/html": [
       "<div>\n",
       "<style scoped>\n",
       "    .dataframe tbody tr th:only-of-type {\n",
       "        vertical-align: middle;\n",
       "    }\n",
       "\n",
       "    .dataframe tbody tr th {\n",
       "        vertical-align: top;\n",
       "    }\n",
       "\n",
       "    .dataframe thead th {\n",
       "        text-align: right;\n",
       "    }\n",
       "</style>\n",
       "<table border=\"1\" class=\"dataframe\">\n",
       "  <thead>\n",
       "    <tr style=\"text-align: right;\">\n",
       "      <th></th>\n",
       "      <th>W_L</th>\n",
       "      <th>Vgs</th>\n",
       "      <th>Vth</th>\n",
       "      <th>sub-Vth</th>\n",
       "      <th>log-leakage</th>\n",
       "    </tr>\n",
       "  </thead>\n",
       "  <tbody>\n",
       "    <tr>\n",
       "      <th>0</th>\n",
       "      <td>0.001</td>\n",
       "      <td>0.01</td>\n",
       "      <td>1.05</td>\n",
       "      <td>2.801950e-18</td>\n",
       "      <td>17.552540</td>\n",
       "    </tr>\n",
       "    <tr>\n",
       "      <th>1</th>\n",
       "      <td>0.001</td>\n",
       "      <td>0.01</td>\n",
       "      <td>1.10</td>\n",
       "      <td>6.650390e-19</td>\n",
       "      <td>18.177153</td>\n",
       "    </tr>\n",
       "    <tr>\n",
       "      <th>2</th>\n",
       "      <td>0.001</td>\n",
       "      <td>0.01</td>\n",
       "      <td>1.15</td>\n",
       "      <td>9.605191e-20</td>\n",
       "      <td>19.017494</td>\n",
       "    </tr>\n",
       "    <tr>\n",
       "      <th>3</th>\n",
       "      <td>0.001</td>\n",
       "      <td>0.01</td>\n",
       "      <td>1.20</td>\n",
       "      <td>2.546769e-20</td>\n",
       "      <td>19.594010</td>\n",
       "    </tr>\n",
       "    <tr>\n",
       "      <th>4</th>\n",
       "      <td>0.001</td>\n",
       "      <td>0.01</td>\n",
       "      <td>1.25</td>\n",
       "      <td>2.160030e-21</td>\n",
       "      <td>20.665540</td>\n",
       "    </tr>\n",
       "    <tr>\n",
       "      <th>5</th>\n",
       "      <td>0.001</td>\n",
       "      <td>0.01</td>\n",
       "      <td>1.30</td>\n",
       "      <td>1.212531e-21</td>\n",
       "      <td>20.916307</td>\n",
       "    </tr>\n",
       "    <tr>\n",
       "      <th>6</th>\n",
       "      <td>0.001</td>\n",
       "      <td>0.01</td>\n",
       "      <td>1.35</td>\n",
       "      <td>1.402079e-22</td>\n",
       "      <td>21.853227</td>\n",
       "    </tr>\n",
       "    <tr>\n",
       "      <th>7</th>\n",
       "      <td>0.001</td>\n",
       "      <td>0.01</td>\n",
       "      <td>1.40</td>\n",
       "      <td>4.480944e-23</td>\n",
       "      <td>22.348630</td>\n",
       "    </tr>\n",
       "    <tr>\n",
       "      <th>8</th>\n",
       "      <td>0.001</td>\n",
       "      <td>0.01</td>\n",
       "      <td>1.45</td>\n",
       "      <td>7.617072e-24</td>\n",
       "      <td>23.118212</td>\n",
       "    </tr>\n",
       "    <tr>\n",
       "      <th>9</th>\n",
       "      <td>0.001</td>\n",
       "      <td>0.01</td>\n",
       "      <td>1.50</td>\n",
       "      <td>1.179472e-24</td>\n",
       "      <td>23.928312</td>\n",
       "    </tr>\n",
       "  </tbody>\n",
       "</table>\n",
       "</div>"
      ],
      "text/plain": [
       "     W_L   Vgs   Vth       sub-Vth  log-leakage\n",
       "0  0.001  0.01  1.05  2.801950e-18    17.552540\n",
       "1  0.001  0.01  1.10  6.650390e-19    18.177153\n",
       "2  0.001  0.01  1.15  9.605191e-20    19.017494\n",
       "3  0.001  0.01  1.20  2.546769e-20    19.594010\n",
       "4  0.001  0.01  1.25  2.160030e-21    20.665540\n",
       "5  0.001  0.01  1.30  1.212531e-21    20.916307\n",
       "6  0.001  0.01  1.35  1.402079e-22    21.853227\n",
       "7  0.001  0.01  1.40  4.480944e-23    22.348630\n",
       "8  0.001  0.01  1.45  7.617072e-24    23.118212\n",
       "9  0.001  0.01  1.50  1.179472e-24    23.928312"
      ]
     },
     "execution_count": 35,
     "metadata": {},
     "output_type": "execute_result"
    }
   ],
   "source": [
    "# first (10) rows(samples) \n",
    "data.head(10)"
   ]
  },
  {
   "cell_type": "code",
   "execution_count": 36,
   "id": "acceea86",
   "metadata": {},
   "outputs": [
    {
     "data": {
      "text/html": [
       "<div>\n",
       "<style scoped>\n",
       "    .dataframe tbody tr th:only-of-type {\n",
       "        vertical-align: middle;\n",
       "    }\n",
       "\n",
       "    .dataframe tbody tr th {\n",
       "        vertical-align: top;\n",
       "    }\n",
       "\n",
       "    .dataframe thead th {\n",
       "        text-align: right;\n",
       "    }\n",
       "</style>\n",
       "<table border=\"1\" class=\"dataframe\">\n",
       "  <thead>\n",
       "    <tr style=\"text-align: right;\">\n",
       "      <th></th>\n",
       "      <th>W_L</th>\n",
       "      <th>Vgs</th>\n",
       "      <th>Vth</th>\n",
       "      <th>sub-Vth</th>\n",
       "      <th>log-leakage</th>\n",
       "    </tr>\n",
       "  </thead>\n",
       "  <tbody>\n",
       "    <tr>\n",
       "      <th>count</th>\n",
       "      <td>18000.000000</td>\n",
       "      <td>18000.000000</td>\n",
       "      <td>18000.000000</td>\n",
       "      <td>1.800000e+04</td>\n",
       "      <td>18000.000000</td>\n",
       "    </tr>\n",
       "    <tr>\n",
       "      <th>mean</th>\n",
       "      <td>0.010500</td>\n",
       "      <td>0.455000</td>\n",
       "      <td>1.275000</td>\n",
       "      <td>4.199568e-07</td>\n",
       "      <td>13.560506</td>\n",
       "    </tr>\n",
       "    <tr>\n",
       "      <th>std</th>\n",
       "      <td>0.005766</td>\n",
       "      <td>0.259799</td>\n",
       "      <td>0.143618</td>\n",
       "      <td>4.695900e-06</td>\n",
       "      <td>4.171355</td>\n",
       "    </tr>\n",
       "    <tr>\n",
       "      <th>min</th>\n",
       "      <td>0.001000</td>\n",
       "      <td>0.010000</td>\n",
       "      <td>1.050000</td>\n",
       "      <td>1.179472e-24</td>\n",
       "      <td>3.778586</td>\n",
       "    </tr>\n",
       "    <tr>\n",
       "      <th>25%</th>\n",
       "      <td>0.005750</td>\n",
       "      <td>0.230000</td>\n",
       "      <td>1.150000</td>\n",
       "      <td>1.900807e-17</td>\n",
       "      <td>10.395869</td>\n",
       "    </tr>\n",
       "    <tr>\n",
       "      <th>50%</th>\n",
       "      <td>0.010500</td>\n",
       "      <td>0.455000</td>\n",
       "      <td>1.275000</td>\n",
       "      <td>2.745706e-14</td>\n",
       "      <td>13.561346</td>\n",
       "    </tr>\n",
       "    <tr>\n",
       "      <th>75%</th>\n",
       "      <td>0.015250</td>\n",
       "      <td>0.680000</td>\n",
       "      <td>1.400000</td>\n",
       "      <td>4.019118e-11</td>\n",
       "      <td>16.721062</td>\n",
       "    </tr>\n",
       "    <tr>\n",
       "      <th>max</th>\n",
       "      <td>0.020000</td>\n",
       "      <td>0.900000</td>\n",
       "      <td>1.500000</td>\n",
       "      <td>1.664999e-04</td>\n",
       "      <td>23.928312</td>\n",
       "    </tr>\n",
       "  </tbody>\n",
       "</table>\n",
       "</div>"
      ],
      "text/plain": [
       "                W_L           Vgs           Vth       sub-Vth   log-leakage\n",
       "count  18000.000000  18000.000000  18000.000000  1.800000e+04  18000.000000\n",
       "mean       0.010500      0.455000      1.275000  4.199568e-07     13.560506\n",
       "std        0.005766      0.259799      0.143618  4.695900e-06      4.171355\n",
       "min        0.001000      0.010000      1.050000  1.179472e-24      3.778586\n",
       "25%        0.005750      0.230000      1.150000  1.900807e-17     10.395869\n",
       "50%        0.010500      0.455000      1.275000  2.745706e-14     13.561346\n",
       "75%        0.015250      0.680000      1.400000  4.019118e-11     16.721062\n",
       "max        0.020000      0.900000      1.500000  1.664999e-04     23.928312"
      ]
     },
     "execution_count": 36,
     "metadata": {},
     "output_type": "execute_result"
    }
   ],
   "source": [
    "# general statistics of the datase\n",
    "data.describe()"
   ]
  },
  {
   "cell_type": "markdown",
   "id": "a3c1b8fb",
   "metadata": {},
   "source": [
    "## Graphs  📈"
   ]
  },
  {
   "cell_type": "markdown",
   "id": "03d1485b",
   "metadata": {},
   "source": [
    "We can use different kind of graphs in order to have a better understanding of our dataset and the corellation within its features."
   ]
  },
  {
   "cell_type": "markdown",
   "id": "34f0a6d0",
   "metadata": {},
   "source": [
    "This is a sum of scatter graphs according to our dataset features."
   ]
  },
  {
   "cell_type": "code",
   "execution_count": 37,
   "id": "cbcda56e",
   "metadata": {},
   "outputs": [
    {
     "data": {
      "text/plain": [
       "array([[<AxesSubplot:xlabel='W_L', ylabel='W_L'>,\n",
       "        <AxesSubplot:xlabel='Vgs', ylabel='W_L'>,\n",
       "        <AxesSubplot:xlabel='Vth', ylabel='W_L'>,\n",
       "        <AxesSubplot:xlabel='sub-Vth', ylabel='W_L'>,\n",
       "        <AxesSubplot:xlabel='log-leakage', ylabel='W_L'>],\n",
       "       [<AxesSubplot:xlabel='W_L', ylabel='Vgs'>,\n",
       "        <AxesSubplot:xlabel='Vgs', ylabel='Vgs'>,\n",
       "        <AxesSubplot:xlabel='Vth', ylabel='Vgs'>,\n",
       "        <AxesSubplot:xlabel='sub-Vth', ylabel='Vgs'>,\n",
       "        <AxesSubplot:xlabel='log-leakage', ylabel='Vgs'>],\n",
       "       [<AxesSubplot:xlabel='W_L', ylabel='Vth'>,\n",
       "        <AxesSubplot:xlabel='Vgs', ylabel='Vth'>,\n",
       "        <AxesSubplot:xlabel='Vth', ylabel='Vth'>,\n",
       "        <AxesSubplot:xlabel='sub-Vth', ylabel='Vth'>,\n",
       "        <AxesSubplot:xlabel='log-leakage', ylabel='Vth'>],\n",
       "       [<AxesSubplot:xlabel='W_L', ylabel='sub-Vth'>,\n",
       "        <AxesSubplot:xlabel='Vgs', ylabel='sub-Vth'>,\n",
       "        <AxesSubplot:xlabel='Vth', ylabel='sub-Vth'>,\n",
       "        <AxesSubplot:xlabel='sub-Vth', ylabel='sub-Vth'>,\n",
       "        <AxesSubplot:xlabel='log-leakage', ylabel='sub-Vth'>],\n",
       "       [<AxesSubplot:xlabel='W_L', ylabel='log-leakage'>,\n",
       "        <AxesSubplot:xlabel='Vgs', ylabel='log-leakage'>,\n",
       "        <AxesSubplot:xlabel='Vth', ylabel='log-leakage'>,\n",
       "        <AxesSubplot:xlabel='sub-Vth', ylabel='log-leakage'>,\n",
       "        <AxesSubplot:xlabel='log-leakage', ylabel='log-leakage'>]],\n",
       "      dtype=object)"
      ]
     },
     "execution_count": 37,
     "metadata": {},
     "output_type": "execute_result"
    },
    {
     "data": {
      "image/png": "[encoded data removed]",
      "text/plain": [
       "<Figure size 1080x1080 with 25 Axes>"
      ]
     },
     "metadata": {
      "needs_background": "light"
     },
     "output_type": "display_data"
    }
   ],
   "source": [
    "pd.plotting.scatter_matrix(data.iloc[:,:], figsize=(15, 15))"
   ]
  },
  {
   "cell_type": "markdown",
   "id": "fae132b5",
   "metadata": {},
   "source": [
    "This is a Correlation Matrix of our dataset."
   ]
  },
  {
   "cell_type": "code",
   "execution_count": 38,
   "id": "0eb0f254",
   "metadata": {},
   "outputs": [
    {
     "data": {
      "text/plain": [
       "<AxesSubplot:>"
      ]
     },
     "execution_count": 38,
     "metadata": {},
     "output_type": "execute_result"
    },
    {
     "data": {
      "image/png": "[encoded data removed]",
      "text/plain": [
       "<Figure size 432x288 with 2 Axes>"
      ]
     },
     "metadata": {
      "needs_background": "light"
     },
     "output_type": "display_data"
    }
   ],
   "source": [
    "correlation_matrix = data.iloc[:,:].corr().round(2)\n",
    "sns.heatmap(data=correlation_matrix, annot=True,cmap=\"Reds\")"
   ]
  },
  {
   "cell_type": "markdown",
   "id": "2e6ce44e",
   "metadata": {},
   "source": [
    "# Training leakage model 🏋️"
   ]
  },
  {
   "cell_type": "markdown",
   "id": "f31b5eba",
   "metadata": {},
   "source": [
    "From here and on we will be using Machine Learning techniques in order to predict the Sub-Threshold leakage of our MOSFETs.\n",
    "\n",
    "#### 🆘 Important\n",
    "\n",
    "We are going to use regression models, as we are talking about finding a numerical value"
   ]
  },
  {
   "cell_type": "markdown",
   "id": "1d9edfd6",
   "metadata": {},
   "source": [
    "## Preparing & splitting the dataset into training and testing data  🤖\n"
   ]
  },
  {
   "cell_type": "code",
   "execution_count": 39,
   "id": "7097392e",
   "metadata": {},
   "outputs": [],
   "source": [
    "def prepare_data(data, input_cols,output_var,test_size=0.25,scaley=False):\n",
    "    \n",
    "    \n",
    "    data1 = data.copy()\n",
    "    X = data1[input_cols]\n",
    "    y = data1[str(output_var)]\n",
    "    X_train, X_test, y_train, y_test = train_test_split(X, y, test_size=test_size)\n",
    "\n",
    "    # Min-max scaler from Scikit-learn\n",
    "    scalerx = MinMaxScaler()\n",
    "    scalery = MinMaxScaler()\n",
    "    X_train_scaled = scalerx.fit_transform(X_train)\n",
    "    X_test_scaled = scalerx.fit_transform(X_test)\n",
    "    if scaley == True:\n",
    "        y_train_scaled = scalery.fit_transform(y_train.values.reshape(-1, 1))\n",
    "        y_test_scaled = scalery.fit_transform(y_test.values.reshape(-1, 1))\n",
    "    else:\n",
    "        y_train_scaled = y_train.values.reshape(-1, 1)\n",
    "        y_test_scaled = y_test.values.reshape(-1, 1)\n",
    "    \n",
    "    return (X_train_scaled, X_test_scaled, y_train_scaled, y_test_scaled)"
   ]
  },
  {
   "cell_type": "code",
   "execution_count": 40,
   "id": "153a3685",
   "metadata": {},
   "outputs": [],
   "source": [
    "X_train_scaled, X_test_scaled, y_train_scaled, y_test_scaled = prepare_data(data,\n",
    "                                                input_cols=['W_L','Vgs','Vth'],\n",
    "                                                output_var='log-leakage',\n",
    "                                                        scaley=False)"
   ]
  },
  {
   "cell_type": "markdown",
   "id": "a723ac33",
   "metadata": {},
   "source": [
    "#### 🆘 Important\n",
    "\n",
    "The **test_size** is generally expected to be around 20-30 % of the dataset. By changing this number we can see different Succes Rates in our algorithms.After many combinations, we find that one of the best combos has **test_size=0.25**. You can try changing them to see new results for our following Evaluations Models."
   ]
  },
  {
   "cell_type": "markdown",
   "id": "097165ea",
   "metadata": {},
   "source": [
    "## Linear Regression ↗️"
   ]
  },
  {
   "cell_type": "markdown",
   "id": "7b08f94b",
   "metadata": {},
   "source": [
    "#### 1. Importing algorithm's library"
   ]
  },
  {
   "cell_type": "code",
   "execution_count": 41,
   "id": "ea16fde5",
   "metadata": {},
   "outputs": [],
   "source": [
    "from sklearn.linear_model import LinearRegression\n",
    "from sklearn.metrics import mean_squared_error, r2_score"
   ]
  },
  {
   "cell_type": "markdown",
   "id": "c43577aa",
   "metadata": {},
   "source": [
    "#### 2. Select a specific learning algorithm (Linear Regression)"
   ]
  },
  {
   "cell_type": "code",
   "execution_count": 42,
   "id": "7eaefb7a",
   "metadata": {},
   "outputs": [],
   "source": [
    "linregressor = LinearRegression()"
   ]
  },
  {
   "cell_type": "markdown",
   "id": "ff2e2870",
   "metadata": {},
   "source": [
    "#### 3. Train our model"
   ]
  },
  {
   "cell_type": "code",
   "execution_count": 43,
   "id": "e8ba6e08",
   "metadata": {},
   "outputs": [
    {
     "data": {
      "text/plain": [
       "LinearRegression()"
      ]
     },
     "execution_count": 43,
     "metadata": {},
     "output_type": "execute_result"
    }
   ],
   "source": [
    "linregressor.fit(X_train_scaled, y_train_scaled)"
   ]
  },
  {
   "cell_type": "markdown",
   "id": "9cf75de1",
   "metadata": {},
   "source": [
    "#### 4. Model evaluation"
   ]
  },
  {
   "cell_type": "code",
   "execution_count": 44,
   "id": "19f24084",
   "metadata": {},
   "outputs": [
    {
     "name": "stdout",
     "output_type": "stream",
     "text": [
      "Our model performance metrics are the following:\n",
      "--------------------------------------\n",
      "Mean Absolute Error=  0.1233573226158758\n",
      "Root Mean Squared Error =  0.16038119336260565\n",
      "R2 score =  0.9984691563886553\n"
     ]
    }
   ],
   "source": [
    "from sklearn import metrics\n",
    "y_pred_lr = linregressor.predict(X_test_scaled)\n",
    "\n",
    "# mean absolute error\n",
    "mae=metrics.mean_absolute_error(y_test_scaled, y_pred_lr)\n",
    "# root mean square error of our model\n",
    "rmse = (np.sqrt(mean_squared_error(y_test_scaled, y_pred_lr)))\n",
    "# r-squared score of our model\n",
    "r2 = r2_score(y_test_scaled, y_pred_lr)\n",
    "linregressor.score(X_test_scaled, y_test_scaled)\n",
    "\n",
    "print(\"Our model performance metrics are the following:\")\n",
    "print(\"--------------------------------------\")\n",
    "print('Mean Absolute Error= ', mae)  \n",
    "print('Root Mean Squared Error = ',rmse)\n",
    "print('R2 score = ',linregressor.score(X_test_scaled, y_test_scaled))"
   ]
  },
  {
   "cell_type": "markdown",
   "id": "9c17b743",
   "metadata": {},
   "source": [
    "## 🇰- Nearest Neighbors Regression"
   ]
  },
  {
   "cell_type": "markdown",
   "id": "dda1febf",
   "metadata": {},
   "source": [
    "#### 1. Importing algorithm's library"
   ]
  },
  {
   "cell_type": "code",
   "execution_count": 45,
   "id": "8a4eb56d",
   "metadata": {},
   "outputs": [],
   "source": [
    "from sklearn.neighbors import KNeighborsRegressor"
   ]
  },
  {
   "cell_type": "markdown",
   "id": "806b7ee8",
   "metadata": {},
   "source": [
    "#### 2. Select a specific learning algorithm (K-Nearest Neighbors Regression) & set hyperparameters"
   ]
  },
  {
   "cell_type": "code",
   "execution_count": 46,
   "id": "e19fdc0a",
   "metadata": {},
   "outputs": [],
   "source": [
    "knnReg = KNeighborsRegressor(n_neighbors=4)"
   ]
  },
  {
   "cell_type": "markdown",
   "id": "c660b2f6",
   "metadata": {},
   "source": [
    "#### 3. Train our model"
   ]
  },
  {
   "cell_type": "code",
   "execution_count": 47,
   "id": "8c0e734d",
   "metadata": {},
   "outputs": [
    {
     "data": {
      "text/plain": [
       "KNeighborsRegressor(n_neighbors=4)"
      ]
     },
     "execution_count": 47,
     "metadata": {},
     "output_type": "execute_result"
    }
   ],
   "source": [
    "knnReg.fit(X_train_scaled, y_train_scaled)"
   ]
  },
  {
   "cell_type": "markdown",
   "id": "c0c6de29",
   "metadata": {},
   "source": [
    "#### 4. Model evaluation"
   ]
  },
  {
   "cell_type": "code",
   "execution_count": 48,
   "id": "26338cfc",
   "metadata": {},
   "outputs": [],
   "source": [
    "y_pred_kn = knnReg.predict(X_test_scaled)"
   ]
  },
  {
   "cell_type": "code",
   "execution_count": 49,
   "id": "6c668757",
   "metadata": {},
   "outputs": [
    {
     "name": "stdout",
     "output_type": "stream",
     "text": [
      "Our model performance metrics are the following:\n",
      "--------------------------------------\n",
      "Mean Absolute Error=  0.1259743124691702\n",
      "Root Mean Squared Error =  0.16170465684326144\n",
      "R2 score =  0.9984437871430656\n"
     ]
    }
   ],
   "source": [
    "from sklearn import metrics\n",
    "y_pred_kn = knnReg.predict(X_test_scaled)\n",
    "\n",
    "# mean absolute error\n",
    "mae=metrics.mean_absolute_error(y_test_scaled, y_pred_kn)\n",
    "# root mean square error of our model\n",
    "rmse = (np.sqrt(mean_squared_error(y_test_scaled, y_pred_kn)))\n",
    "# r-squared score of our model\n",
    "r2 = r2_score(y_test_scaled, y_pred_kn)\n",
    "knnReg.score(X_test_scaled, y_test_scaled)\n",
    "\n",
    "print(\"Our model performance metrics are the following:\")\n",
    "print(\"--------------------------------------\")\n",
    "print('Mean Absolute Error= ', mae)  \n",
    "print('Root Mean Squared Error = ',rmse)\n",
    "print('R2 score = ',knnReg.score(X_test_scaled, y_test_scaled))"
   ]
  },
  {
   "cell_type": "markdown",
   "id": "4acfc54d",
   "metadata": {},
   "source": [
    "#### 5. Changing the K value in order to find the best possible performance"
   ]
  },
  {
   "cell_type": "code",
   "execution_count": 50,
   "id": "4b72ddd9",
   "metadata": {},
   "outputs": [
    {
     "name": "stdout",
     "output_type": "stream",
     "text": [
      "No. K of Neighbors = 1     Success Rate:  0.9973744078869115\n",
      "No. K of Neighbors = 2     Success Rate:  0.9982900694845207\n",
      "No. K of Neighbors = 3     Success Rate:  0.9983350114194257\n",
      "No. K of Neighbors = 4     Success Rate:  0.9984437871430656\n",
      "No. K of Neighbors = 5     Success Rate:  0.9985760363555115\n",
      "No. K of Neighbors = 6     Success Rate:  0.9987133265372962\n",
      "No. K of Neighbors = 7     Success Rate:  0.9988386623455512\n",
      "No. K of Neighbors = 8     Success Rate:  0.9989091405535926\n",
      "No. K of Neighbors = 9     Success Rate:  0.998918532668029\n",
      "No. K of Neighbors = 10     Success Rate:  0.9988986287450852\n",
      "No. K of Neighbors = 11     Success Rate:  0.9988595642643354\n",
      "No. K of Neighbors = 12     Success Rate:  0.9988325291960035\n",
      "No. K of Neighbors = 13     Success Rate:  0.9987959085252773\n",
      "No. K of Neighbors = 14     Success Rate:  0.9987553383144107\n",
      "No. K of Neighbors = 15     Success Rate:  0.9987126408172757\n",
      "No. K of Neighbors = 16     Success Rate:  0.9986518038599841\n",
      "No. K of Neighbors = 17     Success Rate:  0.9985788991242578\n",
      "No. K of Neighbors = 18     Success Rate:  0.9985113552897747\n",
      "No. K of Neighbors = 19     Success Rate:  0.9984616301479576\n",
      "No. K of Neighbors = 20     Success Rate:  0.9983821641176309\n",
      "No. K of Neighbors = 21     Success Rate:  0.9983166498899909\n",
      "No. K of Neighbors = 22     Success Rate:  0.9982807793960288\n",
      "No. K of Neighbors = 23     Success Rate:  0.9982413288615998\n",
      "No. K of Neighbors = 24     Success Rate:  0.9982216862612242\n",
      "No. K of Neighbors = 25     Success Rate:  0.9982005162849737\n",
      "No. K of Neighbors = 26     Success Rate:  0.998196576216471\n",
      "No. K of Neighbors = 27     Success Rate:  0.9981777066931998\n",
      "No. K of Neighbors = 28     Success Rate:  0.998176091113555\n",
      "No. K of Neighbors = 29     Success Rate:  0.998161169222674\n",
      "No. K of Neighbors = 30     Success Rate:  0.998163598902185\n",
      "No. K of Neighbors = 31     Success Rate:  0.9981650135179635\n",
      "No. K of Neighbors = 32     Success Rate:  0.998170036130321\n",
      "No. K of Neighbors = 33     Success Rate:  0.998168989004847\n",
      "No. K of Neighbors = 34     Success Rate:  0.9981721942743252\n",
      "No. K of Neighbors = 35     Success Rate:  0.9981829395706492\n",
      "No. K of Neighbors = 36     Success Rate:  0.9981855963147721\n",
      "No. K of Neighbors = 37     Success Rate:  0.9981969973847264\n",
      "No. K of Neighbors = 38     Success Rate:  0.9982081551665204\n",
      "No. K of Neighbors = 39     Success Rate:  0.9982185628788782\n",
      "No. K of Neighbors = 40     Success Rate:  0.998229796697835\n",
      "No. K of Neighbors = 41     Success Rate:  0.9982356899002439\n",
      "No. K of Neighbors = 42     Success Rate:  0.9982389540767309\n",
      "No. K of Neighbors = 43     Success Rate:  0.9982388882352394\n",
      "No. K of Neighbors = 44     Success Rate:  0.9982303589593386\n",
      "No. K of Neighbors = 45     Success Rate:  0.9982252416335722\n",
      "No. K of Neighbors = 46     Success Rate:  0.9982120178362047\n",
      "No. K of Neighbors = 47     Success Rate:  0.9981957712194419\n",
      "No. K of Neighbors = 48     Success Rate:  0.9981829157695077\n",
      "No. K of Neighbors = 49     Success Rate:  0.9981734955806137\n",
      "No. K of Neighbors = 50     Success Rate:  0.998160556540324\n",
      "No. K of Neighbors = 51     Success Rate:  0.9981494434737781\n",
      "No. K of Neighbors = 52     Success Rate:  0.9981342075793791\n",
      "No. K of Neighbors = 53     Success Rate:  0.9981161365337421\n",
      "No. K of Neighbors = 54     Success Rate:  0.9981052659937502\n",
      "No. K of Neighbors = 55     Success Rate:  0.9980894138076114\n",
      "No. K of Neighbors = 56     Success Rate:  0.9980743722614032\n",
      "No. K of Neighbors = 57     Success Rate:  0.9980581421577618\n",
      "No. K of Neighbors = 58     Success Rate:  0.9980427944322803\n",
      "No. K of Neighbors = 59     Success Rate:  0.998013944016118\n",
      "No. K of Neighbors = 60     Success Rate:  0.9979996528463344\n",
      "No. K of Neighbors = 61     Success Rate:  0.9979737914658056\n",
      "No. K of Neighbors = 62     Success Rate:  0.9979597621605176\n",
      "No. K of Neighbors = 63     Success Rate:  0.997934403743172\n",
      "No. K of Neighbors = 64     Success Rate:  0.9979102139720363\n",
      "\n",
      "The best possible rate is  0.998918532668029 for Κ = 9\n"
     ]
    }
   ],
   "source": [
    "knn_performance=[]\n",
    "\n",
    "for k in range(1,65):\n",
    "  knnClass = KNeighborsRegressor(n_neighbors=k)\n",
    "  knnClass.fit(X_train_scaled, y_train_scaled)\n",
    "  pred_knn = knnClass.predict(X_test_scaled)\n",
    "  score = r2_score(y_test_scaled, pred_knn)\n",
    "  knn_performance.append(score)\n",
    "  print(\"No. K of Neighbors =\",k, \"    Success Rate: \",score)\n",
    "print()\n",
    "print(\"The best possible rate is \",max(knn_performance),\"for Κ =\",knn_performance.index(max(knn_performance))+1)"
   ]
  },
  {
   "cell_type": "markdown",
   "id": "dc8d491e",
   "metadata": {},
   "source": [
    "## Random Forest Regression 🏞️"
   ]
  },
  {
   "cell_type": "markdown",
   "id": "3d448300",
   "metadata": {},
   "source": [
    "#### 1. Importing algorithm's library"
   ]
  },
  {
   "cell_type": "code",
   "execution_count": 51,
   "id": "f2cc0d56",
   "metadata": {},
   "outputs": [],
   "source": [
    "from sklearn.ensemble import RandomForestRegressor"
   ]
  },
  {
   "cell_type": "markdown",
   "id": "8a78824d",
   "metadata": {},
   "source": [
    "#### 2. Select a specific learning algorithm (Random Forest Regression) & set hyperparameters"
   ]
  },
  {
   "cell_type": "code",
   "execution_count": 52,
   "id": "5be2de81",
   "metadata": {},
   "outputs": [],
   "source": [
    "rf = RandomForestRegressor(n_estimators=600,max_features = 3)"
   ]
  },
  {
   "cell_type": "markdown",
   "id": "5a74c147",
   "metadata": {},
   "source": [
    "#### 3. Train our model"
   ]
  },
  {
   "cell_type": "code",
   "execution_count": 53,
   "id": "e002f644",
   "metadata": {},
   "outputs": [
    {
     "name": "stderr",
     "output_type": "stream",
     "text": [
      "/home/henry/anaconda3/lib/python3.7/site-packages/ipykernel_launcher.py:1: DataConversionWarning: A column-vector y was passed when a 1d array was expected. Please change the shape of y to (n_samples,), for example using ravel().\n",
      "  \"\"\"Entry point for launching an IPython kernel.\n"
     ]
    },
    {
     "data": {
      "text/plain": [
       "RandomForestRegressor(max_features=3, n_estimators=600)"
      ]
     },
     "execution_count": 53,
     "metadata": {},
     "output_type": "execute_result"
    }
   ],
   "source": [
    "rf.fit(X_train_scaled, y_train_scaled)"
   ]
  },
  {
   "cell_type": "markdown",
   "id": "f067c226",
   "metadata": {},
   "source": [
    "#### 4. Model evaluation"
   ]
  },
  {
   "cell_type": "code",
   "execution_count": 54,
   "id": "b83f673e",
   "metadata": {},
   "outputs": [],
   "source": [
    "y_pred_test_rf = rf.predict(X_test_scaled)\n",
    "y_pred_train_rf = rf.predict(X_train_scaled)"
   ]
  },
  {
   "cell_type": "code",
   "execution_count": 55,
   "id": "9e13ab30",
   "metadata": {},
   "outputs": [
    {
     "name": "stdout",
     "output_type": "stream",
     "text": [
      "Our model performance metrics are the following:\n",
      "--------------------------------------\n",
      "Mean Absolute Error=  0.09691759053847802\n",
      "Root Mean Squared Error =  0.12753917258673378\n",
      "R2 score =  0.9990319202514233\n"
     ]
    }
   ],
   "source": [
    "from sklearn import metrics\n",
    "y_pred_test_rf = rf.predict(X_test_scaled)\n",
    "\n",
    "# mean absolute error\n",
    "mae=metrics.mean_absolute_error(y_test_scaled, y_pred_test_rf)\n",
    "# root mean square error of our model\n",
    "rmse = (np.sqrt(mean_squared_error(y_test_scaled, y_pred_test_rf)))\n",
    "# r-squared score of our model\n",
    "r2 = r2_score(y_test_scaled, y_pred_test_rf)\n",
    "knnReg.score(X_test_scaled, y_test_scaled)\n",
    "\n",
    "print(\"Our model performance metrics are the following:\")\n",
    "print(\"--------------------------------------\")\n",
    "print('Mean Absolute Error= ', mae)  \n",
    "print('Root Mean Squared Error = ',rmse)\n",
    "print('R2 score = ',rf.score(X_test_scaled, y_test_scaled))"
   ]
  },
  {
   "cell_type": "markdown",
   "id": "dab0a58c",
   "metadata": {},
   "source": [
    "\n",
    "#### 🆘 Important\n",
    "​\n",
    "At the second step of our trainning **(2. Select a specific learning algorithm (Random Forest Regression) & set hyperparameters)**, when setting the hyperparameters we can change the no. of estimators & the maximum features to take in account in order to find the best possible Success Rate **(4. Model Evaluation)**. You can try changing them to see new results in our Model Evaluation.\n"
   ]
  },
  {
   "cell_type": "markdown",
   "id": "aa51cee7",
   "metadata": {},
   "source": [
    "#### 5. Feature Importance Visualization "
   ]
  },
  {
   "cell_type": "markdown",
   "id": "06fa8d07",
   "metadata": {},
   "source": [
    "The following graph represents the features of our dataset based on their importance for the Random Forest Regression Algorithm."
   ]
  },
  {
   "cell_type": "code",
   "execution_count": 56,
   "id": "fd97a36d",
   "metadata": {},
   "outputs": [
    {
     "data": {
      "image/png": "[encoded data removed]",
      "text/plain": [
       "<Figure size 432x288 with 1 Axes>"
      ]
     },
     "metadata": {
      "needs_background": "light"
     },
     "output_type": "display_data"
    }
   ],
   "source": [
    "features = ['W_L','Vgs','Vth']\n",
    "importances = rf.feature_importances_\n",
    "indices = np.argsort(importances)\n",
    "\n",
    "plt.title('Feature Importances')\n",
    "plt.barh(range(len(indices)), importances[indices], color='red', align='center')\n",
    "plt.yticks(range(len(indices)), [features[i] for i in indices])\n",
    "plt.xlabel('Relative Importance')\n",
    "plt.show()"
   ]
  },
  {
   "cell_type": "markdown",
   "id": "8c4756fb",
   "metadata": {},
   "source": [
    "#### 🆘 Important\n",
    "We can observe that the \"Vgs\" (Voltage between gate and source) is the most important feature of our dataset. On the other hand, the feature \"W_L\" (Mobility factor/coefficient) is the least important."
   ]
  },
  {
   "cell_type": "markdown",
   "id": "8137a712",
   "metadata": {},
   "source": [
    "## CONCLUSION !!! 🏁"
   ]
  },
  {
   "cell_type": "markdown",
   "id": "9e184734",
   "metadata": {},
   "source": [
    "We can observe that, at all the regression algorithms we used, we are getting an overfitted model. We definetly do not want that because our model can not generalise well for a different data set. That is why we are going to develop a DNN afterwards, to avoid this overfitting and get better results."
   ]
  },
  {
   "cell_type": "markdown",
   "id": "ece8d23a",
   "metadata": {},
   "source": [
    "<br>"
   ]
  },
  {
   "cell_type": "markdown",
   "id": "d99c39b2",
   "metadata": {},
   "source": [
    "# Deep Neural Network Creation 🧠"
   ]
  },
  {
   "cell_type": "markdown",
   "id": "709d1c1d",
   "metadata": {},
   "source": [
    "From here and on we will leave the classical ML algorithms, and we will start creating a DNN for our application."
   ]
  },
  {
   "cell_type": "markdown",
   "id": "a383882b",
   "metadata": {},
   "source": [
    "While building our DNN model, we need to choose an activation function. We are going to try and train our model by using the relu, sigmoid and tanh."
   ]
  },
  {
   "cell_type": "markdown",
   "id": "bf5c8657",
   "metadata": {},
   "source": [
    "<img src=\"Activation-Functions-ReLU-Tanh-Sigmoid.png\" style=\"width:600px;height:100pz\"/>\n"
   ]
  },
  {
   "cell_type": "markdown",
   "id": "53c103bf",
   "metadata": {},
   "source": [
    "## RELU"
   ]
  },
  {
   "cell_type": "markdown",
   "id": "4570ddcc",
   "metadata": {},
   "source": [
    "#### Builds a DNN model from user input (RELU)."
   ]
  },
  {
   "cell_type": "code",
   "execution_count": 57,
   "id": "f3507456",
   "metadata": {},
   "outputs": [],
   "source": [
    "def build_model(num_layers=1, architecture=[32],act_func='relu', \n",
    "                input_dim=2, output_class=10):\n",
    "    \n",
    "  \"\"\"\n",
    "  num_layers   --> Number of hidden layers\n",
    "  architecture --> Architecture of the hidden layers (densely connected)\n",
    "  act_func     --> Activation function ('relu','tanh','sigmoid')\n",
    "  input_dim  --> Dimension of the input vector\n",
    "  output_class --> Number of classes in the output vector\n",
    "  \"\"\"\n",
    "\n",
    "  layers=[tf.keras.layers.Dense(input_dim,input_dim=input_dim)]\n",
    "  if act_func=='relu':\n",
    "    activation=tf.nn.relu\n",
    "  elif act_func=='tanh':\n",
    "    activation=tf.nn.tanh\n",
    "  elif act_func=='sigmoid':\n",
    "    activation=tf.nn.sigmoid\n",
    "    \n",
    "  for i in range(num_layers):\n",
    "    layers.append(tf.keras.layers.Dense(architecture[i], activation=tf.nn.relu))\n",
    "  layers.append(tf.keras.layers.Dense(1))\n",
    "  \n",
    "  model = tf.keras.models.Sequential(layers)\n",
    "  return model"
   ]
  },
  {
   "cell_type": "markdown",
   "id": "5d087a0f",
   "metadata": {},
   "source": [
    "#### Compiles and trains a given Keras model with the given data (RELU). "
   ]
  },
  {
   "cell_type": "code",
   "execution_count": 58,
   "id": "cce74432",
   "metadata": {},
   "outputs": [],
   "source": [
    "def compile_train_model(model,x_train, y_train, callbacks=None,\n",
    "                        learning_rate=0.002,batch_size=1,epochs=20,verbose=0):\n",
    "    \n",
    "  \"\"\"\n",
    "  learning_rate --> Learning rate for the optimizer Adam\n",
    "  batch_size    --> Batch size for the mini-batch optimization\n",
    "  epochs        --> Number of epochs to trainF\n",
    "  verbose       --> Verbosity of the training process\n",
    "  \"\"\"\n",
    "  \n",
    "  model_copy = model\n",
    "  model_copy.compile(optimizer=tf.keras.optimizers.Adam(lr=learning_rate),\n",
    "                     loss=\"mae\", metrics=[\"mae\"])\n",
    "  \n",
    "  if callbacks is not None:\n",
    "        model_copy.fit(x_train, y_train, epochs=epochs, batch_size=batch_size,\n",
    "                 callbacks=[callbacks],verbose=verbose)\n",
    "  else:\n",
    "    model_copy.fit(x_train, y_train, epochs=epochs, batch_size=batch_size,\n",
    "                   verbose=verbose)\n",
    "  return model_copy"
   ]
  },
  {
   "cell_type": "markdown",
   "id": "42eba227",
   "metadata": {},
   "source": [
    "With the following arrangement, we just write one line of code to train the model with the training data supplied as data DataFrame."
   ]
  },
  {
   "cell_type": "code",
   "execution_count": 59,
   "id": "8f59a864",
   "metadata": {},
   "outputs": [
    {
     "name": "stderr",
     "output_type": "stream",
     "text": [
      "2022-07-31 19:56:51.619104: I tensorflow/core/platform/cpu_feature_guard.cc:142] Your CPU supports instructions that this TensorFlow binary was not compiled to use: SSE4.1 SSE4.2 AVX AVX2 FMA\n",
      "2022-07-31 19:56:51.900561: I tensorflow/core/platform/profile_utils/cpu_utils.cc:94] CPU Frequency: 2095969999 Hz\n",
      "2022-07-31 19:56:51.911344: I tensorflow/compiler/xla/service/service.cc:168] XLA service 0x562203323df0 initialized for platform Host (this does not guarantee that XLA will be used). Devices:\n",
      "2022-07-31 19:56:51.911405: I tensorflow/compiler/xla/service/service.cc:176]   StreamExecutor device (0): Host, Default Version\n",
      "2022-07-31 19:56:51.933713: I tensorflow/core/common_runtime/process_util.cc:147] Creating new thread pool with default inter op setting: 2. Tune using inter_op_parallelism_threads for best performance.\n"
     ]
    },
    {
     "name": "stdout",
     "output_type": "stream",
     "text": [
      "Train on 13500 samples\n",
      "Epoch 1/20\n",
      "13500/13500 [==============================] - 25s 2ms/sample - loss: 12.3652 - mae: 12.3653\n",
      "Epoch 2/20\n",
      "13500/13500 [==============================] - 20s 1ms/sample - loss: 6.0476 - mae: 6.0476\n",
      "Epoch 3/20\n",
      "13500/13500 [==============================] - 20s 2ms/sample - loss: 3.9319 - mae: 3.9318\n",
      "Epoch 4/20\n",
      "13500/13500 [==============================] - 20s 2ms/sample - loss: 3.2796 - mae: 3.2796\n",
      "Epoch 5/20\n",
      "13500/13500 [==============================] - 20s 1ms/sample - loss: 2.7634 - mae: 2.7634\n",
      "Epoch 6/20\n",
      "13500/13500 [==============================] - 22s 2ms/sample - loss: 2.4146 - mae: 2.4146\n",
      "Epoch 7/20\n",
      "13500/13500 [==============================] - 21s 2ms/sample - loss: 2.1705 - mae: 2.1705\n",
      "Epoch 8/20\n",
      "13500/13500 [==============================] - 22s 2ms/sample - loss: 1.9630 - mae: 1.9630\n",
      "Epoch 9/20\n",
      "13500/13500 [==============================] - 23s 2ms/sample - loss: 1.7770 - mae: 1.7770\n",
      "Epoch 10/20\n",
      "13500/13500 [==============================] - 21s 2ms/sample - loss: 1.6031 - mae: 1.6031\n",
      "Epoch 11/20\n",
      "13500/13500 [==============================] - 22s 2ms/sample - loss: 1.4399 - mae: 1.4399\n",
      "Epoch 12/20\n",
      "13500/13500 [==============================] - 20s 2ms/sample - loss: 1.2804 - mae: 1.2804\n",
      "Epoch 13/20\n",
      "13500/13500 [==============================] - 22s 2ms/sample - loss: 1.1206 - mae: 1.1206\n",
      "Epoch 14/20\n",
      "13500/13500 [==============================] - 21s 2ms/sample - loss: 0.9607 - mae: 0.9607\n",
      "Epoch 15/20\n",
      "13500/13500 [==============================] - 22s 2ms/sample - loss: 0.8004 - mae: 0.8004\n",
      "Epoch 16/20\n",
      "13500/13500 [==============================] - 29s 2ms/sample - loss: 0.6366 - mae: 0.6366\n",
      "Epoch 17/20\n",
      "13500/13500 [==============================] - 24s 2ms/sample - loss: 0.4680 - mae: 0.4680\n",
      "Epoch 18/20\n",
      "13500/13500 [==============================] - 26s 2ms/sample - loss: 0.2987 - mae: 0.2987\n",
      "Epoch 19/20\n",
      "13500/13500 [==============================] - 23s 2ms/sample - loss: 0.1905 - mae: 0.1905\n",
      "Epoch 20/20\n",
      "13500/13500 [==============================] - 23s 2ms/sample - loss: 0.1596 - mae: 0.1596\n"
     ]
    }
   ],
   "source": [
    "mosfet.train_leakage(data)\n"
   ]
  },
  {
   "cell_type": "code",
   "execution_count": 60,
   "id": "f7cf15cc",
   "metadata": {},
   "outputs": [],
   "source": [
    "m1_trained = mosfet.leakage_model"
   ]
  },
  {
   "cell_type": "code",
   "execution_count": 61,
   "id": "eff60e0f",
   "metadata": {},
   "outputs": [
    {
     "data": {
      "image/png": "[encoded data removed]",
      "text/plain": [
       "<Figure size 432x288 with 1 Axes>"
      ]
     },
     "metadata": {
      "needs_background": "light"
     },
     "output_type": "display_data"
    }
   ],
   "source": [
    "plt.plot(np.sqrt(m1_trained.history.history['mae']))\n",
    "plt.show()"
   ]
  },
  {
   "cell_type": "markdown",
   "id": "7d8daa2c",
   "metadata": {},
   "source": [
    "## TANH"
   ]
  },
  {
   "cell_type": "markdown",
   "id": "24a67598",
   "metadata": {},
   "source": [
    "* Now we are going to change our activation function from RELU to tahn."
   ]
  },
  {
   "cell_type": "markdown",
   "id": "4aef784b",
   "metadata": {},
   "source": [
    "#### Builds a DNN model from user input (tanh)."
   ]
  },
  {
   "cell_type": "code",
   "execution_count": 62,
   "id": "ea7d3157",
   "metadata": {},
   "outputs": [],
   "source": [
    "#  Builds a DNN model from user input\n",
    "def build_model(num_layers=1, architecture=[32],act_func='tanh', \n",
    "                input_dim=2, output_class=10):\n",
    "    \n",
    "  \"\"\"\n",
    "  num_layers   --> Number of hidden layers\n",
    "  architecture --> Architecture of the hidden layers (densely connected)\n",
    "  act_func     --> Activation function ('relu','sigmoid','tanh')\n",
    "  input_dim  --> Dimension of the input vector\n",
    "  output_class --> Number of classes in the output vector\n",
    "  \"\"\"\n",
    "\n",
    "  layers=[tf.keras.layers.Dense(input_dim,input_dim=input_dim)]\n",
    "  if act_func=='relu':\n",
    "    activation=tf.nn.relu\n",
    "  elif act_func=='tanh':\n",
    "    activation=tf.nn.tanh\n",
    "  elif act_func=='sigmoid':\n",
    "    activation=tf.nn.sigmoid\n",
    "    \n",
    "  for i in range(num_layers):\n",
    "    layers.append(tf.keras.layers.Dense(architecture[i], activation=tf.nn.tanh))\n",
    "  layers.append(tf.keras.layers.Dense(1))\n",
    "  \n",
    "  model = tf.keras.models.Sequential(layers)\n",
    "  return model"
   ]
  },
  {
   "cell_type": "markdown",
   "id": "b1038861",
   "metadata": {},
   "source": [
    "#### Compiles and trains a given Keras model with the given data (tanh). "
   ]
  },
  {
   "cell_type": "code",
   "execution_count": 63,
   "id": "c102dda2",
   "metadata": {},
   "outputs": [],
   "source": [
    "def compile_train_model(model,x_train, y_train, callbacks=None,\n",
    "                        learning_rate=0.002,batch_size=1,epochs=20,verbose=0):\n",
    "    \n",
    "  \"\"\"\n",
    "  learning_rate --> Learning rate for the optimizer Adam\n",
    "  batch_size    --> Batch size for the mini-batch optimization\n",
    "  epochs        --> Number of epochs to train\n",
    "  verbose       --> Verbosity of the training process\n",
    "  \"\"\"\n",
    "  \n",
    "  model_copy = model\n",
    "  model_copy.compile(optimizer=tf.keras.optimizers.Adam(lr=learning_rate),\n",
    "                     loss=\"mae\", metrics=[\"mae\"])\n",
    "  \n",
    "  if callbacks is not None:\n",
    "        model_copy.fit(x_train, y_train, epochs=epochs, batch_size=batch_size,\n",
    "                 callbacks=[callbacks],verbose=verbose)\n",
    "  else:\n",
    "    model_copy.fit(x_train, y_train, epochs=epochs, batch_size=batch_size,\n",
    "                   verbose=verbose)\n",
    "  return model_copy"
   ]
  },
  {
   "cell_type": "markdown",
   "id": "31ee1907",
   "metadata": {},
   "source": [
    "With the following arrangement, we just write one line of code to train the model with the training data supplied as data DataFrame."
   ]
  },
  {
   "cell_type": "code",
   "execution_count": 64,
   "id": "b8cec2d0",
   "metadata": {},
   "outputs": [
    {
     "name": "stdout",
     "output_type": "stream",
     "text": [
      "Train on 13500 samples\n",
      "Epoch 1/20\n",
      "13500/13500 [==============================] - 30s 2ms/sample - loss: 9.4134 - mae: 9.4134\n",
      "Epoch 2/20\n",
      "13500/13500 [==============================] - 29s 2ms/sample - loss: 5.1566 - mae: 5.1566\n",
      "Epoch 3/20\n",
      "13500/13500 [==============================] - 21s 2ms/sample - loss: 4.0783 - mae: 4.0783\n",
      "Epoch 4/20\n",
      "13500/13500 [==============================] - 21s 2ms/sample - loss: 3.6777 - mae: 3.6777\n",
      "Epoch 5/20\n",
      "13500/13500 [==============================] - 21s 2ms/sample - loss: 3.5320 - mae: 3.5320\n",
      "Epoch 6/20\n",
      "13500/13500 [==============================] - 21s 2ms/sample - loss: 3.4852 - mae: 3.4852\n",
      "Epoch 7/20\n",
      "13500/13500 [==============================] - 23s 2ms/sample - loss: 3.4473 - mae: 3.4473\n",
      "Epoch 8/20\n",
      "13500/13500 [==============================] - 22s 2ms/sample - loss: 2.9208 - mae: 2.9208\n",
      "Epoch 9/20\n",
      "13500/13500 [==============================] - 22s 2ms/sample - loss: 2.4840 - mae: 2.4840\n",
      "Epoch 10/20\n",
      "13500/13500 [==============================] - 21s 2ms/sample - loss: 2.0410 - mae: 2.0410\n",
      "Epoch 11/20\n",
      "13500/13500 [==============================] - 21s 2ms/sample - loss: 1.5568 - mae: 1.5568\n",
      "Epoch 12/20\n",
      "13500/13500 [==============================] - 22s 2ms/sample - loss: 1.0579 - mae: 1.0579\n",
      "Epoch 13/20\n",
      "13500/13500 [==============================] - 22s 2ms/sample - loss: 0.6763 - mae: 0.6763\n",
      "Epoch 14/20\n",
      "13500/13500 [==============================] - 21s 2ms/sample - loss: 0.5385 - mae: 0.5385\n",
      "Epoch 15/20\n",
      "13500/13500 [==============================] - 21s 2ms/sample - loss: 0.4729 - mae: 0.4729\n",
      "Epoch 16/20\n",
      "13500/13500 [==============================] - 21s 2ms/sample - loss: 0.4181 - mae: 0.4181\n",
      "Epoch 17/20\n",
      "13500/13500 [==============================] - 22s 2ms/sample - loss: 0.3690 - mae: 0.3690\n",
      "Epoch 18/20\n",
      "13500/13500 [==============================] - 22s 2ms/sample - loss: 0.3262 - mae: 0.3262\n",
      "Epoch 19/20\n",
      "13500/13500 [==============================] - 22s 2ms/sample - loss: 0.2887 - mae: 0.2887\n",
      "Epoch 20/20\n",
      "13500/13500 [==============================] - 22s 2ms/sample - loss: 0.2571 - mae: 0.2571\n"
     ]
    }
   ],
   "source": [
    "mosfet.train_leakage(data)\n"
   ]
  },
  {
   "cell_type": "code",
   "execution_count": 65,
   "id": "b7f9f049",
   "metadata": {},
   "outputs": [],
   "source": [
    "m1_trained = mosfet.leakage_model\n"
   ]
  },
  {
   "cell_type": "code",
   "execution_count": 66,
   "id": "8ffdae01",
   "metadata": {},
   "outputs": [
    {
     "data": {
      "image/png": "[encoded data removed]",
      "text/plain": [
       "<Figure size 432x288 with 1 Axes>"
      ]
     },
     "metadata": {
      "needs_background": "light"
     },
     "output_type": "display_data"
    }
   ],
   "source": [
    "plt.plot(np.sqrt(m1_trained.history.history['mae']))\n",
    "plt.show()"
   ]
  },
  {
   "cell_type": "markdown",
   "id": "840a467f",
   "metadata": {},
   "source": [
    "## SIGMOID"
   ]
  },
  {
   "cell_type": "markdown",
   "id": "561b0b30",
   "metadata": {},
   "source": [
    "* Now we are going to change our activation function from tahn to sigmoid."
   ]
  },
  {
   "cell_type": "markdown",
   "id": "c1eb27ac",
   "metadata": {},
   "source": [
    "#### Builds a DNN model from user input (sigmoid)."
   ]
  },
  {
   "cell_type": "code",
   "execution_count": 67,
   "id": "f07adbde",
   "metadata": {},
   "outputs": [],
   "source": [
    "#  Builds a DNN model from user input\n",
    "def build_model(num_layers=1, architecture=[32],act_func='sigmoid', \n",
    "                input_dim=2, output_class=10):\n",
    "    \n",
    "  \"\"\"\n",
    "  num_layers   --> Number of hidden layers\n",
    "  architecture --> Architecture of the hidden layers (densely connected)\n",
    "  act_func     --> Activation function ('relu','sigmoid','tanh')\n",
    "  input_dim  --> Dimension of the input vector\n",
    "  output_class --> Number of classes in the output vector\n",
    "  \"\"\"\n",
    "\n",
    "  layers=[tf.keras.layers.Dense(input_dim,input_dim=input_dim)]\n",
    "  if act_func=='relu':\n",
    "    activation=tf.nn.relu\n",
    "  elif act_func=='tanh':\n",
    "    activation=tf.nn.tanh\n",
    "  elif act_func=='sigmoid':\n",
    "    activation=tf.nn.sigmoid\n",
    "    \n",
    "  for i in range(num_layers):\n",
    "    layers.append(tf.keras.layers.Dense(architecture[i], activation=tf.nn.sigmoid))\n",
    "  layers.append(tf.keras.layers.Dense(1))\n",
    "  \n",
    "  model = tf.keras.models.Sequential(layers)\n",
    "  return model"
   ]
  },
  {
   "cell_type": "markdown",
   "id": "3181a2a3",
   "metadata": {},
   "source": [
    "#### Compiles and trains a given Keras model with the given data (sigmoid). "
   ]
  },
  {
   "cell_type": "code",
   "execution_count": 68,
   "id": "dbdf4293",
   "metadata": {},
   "outputs": [],
   "source": [
    "def compile_train_model(model,x_train, y_train, callbacks=None,\n",
    "                        learning_rate=0.002,batch_size=1,epochs=20,verbose=0):\n",
    "    \n",
    "  \"\"\"\n",
    "  learning_rate --> Learning rate for the optimizer Adam\n",
    "  batch_size    --> Batch size for the mini-batch optimization\n",
    "  epochs        --> Number of epochs to trainF\n",
    "  verbose       --> Verbosity of the training process\n",
    "  \"\"\"\n",
    "  \n",
    "  model_copy = model\n",
    "  model_copy.compile(optimizer=tf.keras.optimizers.Adam(lr=learning_rate),\n",
    "                     loss=\"mae\", metrics=[\"mae\"])\n",
    "  \n",
    "  if callbacks is not None:\n",
    "        model_copy.fit(x_train, y_train, epochs=epochs, batch_size=batch_size,\n",
    "                 callbacks=[callbacks],verbose=verbose)\n",
    "  else:\n",
    "    model_copy.fit(x_train, y_train, epochs=epochs, batch_size=batch_size,\n",
    "                   verbose=verbose)\n",
    "  return model_copy"
   ]
  },
  {
   "cell_type": "markdown",
   "id": "db87310e",
   "metadata": {},
   "source": [
    "With the following arrangement, we just write one line of code to train the model with the training data supplied as data DataFrame."
   ]
  },
  {
   "cell_type": "code",
   "execution_count": 69,
   "id": "d76e309a",
   "metadata": {},
   "outputs": [
    {
     "name": "stdout",
     "output_type": "stream",
     "text": [
      "Train on 13500 samples\n",
      "Epoch 1/20\n",
      "13500/13500 [==============================] - 24s 2ms/sample - loss: 11.3778 - mae: 11.3778\n",
      "Epoch 2/20\n",
      "13500/13500 [==============================] - 20s 1ms/sample - loss: 8.4000 - mae: 8.4000\n",
      "Epoch 3/20\n",
      "13500/13500 [==============================] - 20s 2ms/sample - loss: 6.5653 - mae: 6.5653\n",
      "Epoch 4/20\n",
      "13500/13500 [==============================] - 22s 2ms/sample - loss: 5.4872 - mae: 5.4872\n",
      "Epoch 5/20\n",
      "13500/13500 [==============================] - 22s 2ms/sample - loss: 4.7637 - mae: 4.7637\n",
      "Epoch 6/20\n",
      "13500/13500 [==============================] - 19s 1ms/sample - loss: 4.2594 - mae: 4.2594\n",
      "Epoch 7/20\n",
      "13500/13500 [==============================] - 21s 2ms/sample - loss: 3.9219 - mae: 3.9219\n",
      "Epoch 8/20\n",
      "13500/13500 [==============================] - 21s 2ms/sample - loss: 3.7085 - mae: 3.7085\n",
      "Epoch 9/20\n",
      "13500/13500 [==============================] - 20s 1ms/sample - loss: 3.5866 - mae: 3.5866\n",
      "Epoch 10/20\n",
      "13500/13500 [==============================] - 25s 2ms/sample - loss: 3.5242 - mae: 3.5242\n",
      "Epoch 11/20\n",
      "13500/13500 [==============================] - 20s 1ms/sample - loss: 3.4947 - mae: 3.4947\n",
      "Epoch 12/20\n",
      "13500/13500 [==============================] - 21s 2ms/sample - loss: 3.4826 - mae: 3.4826\n",
      "Epoch 13/20\n",
      "13500/13500 [==============================] - 22s 2ms/sample - loss: 3.4775 - mae: 3.4775\n",
      "Epoch 14/20\n",
      "13500/13500 [==============================] - 21s 2ms/sample - loss: 3.4751 - mae: 3.4751\n",
      "Epoch 15/20\n",
      "13500/13500 [==============================] - 20s 1ms/sample - loss: 3.4738 - mae: 3.4738\n",
      "Epoch 16/20\n",
      "13500/13500 [==============================] - 22s 2ms/sample - loss: 3.4727 - mae: 3.4727\n",
      "Epoch 17/20\n",
      "13500/13500 [==============================] - 20s 1ms/sample - loss: 3.4717 - mae: 3.4717\n",
      "Epoch 18/20\n",
      "13500/13500 [==============================] - 23s 2ms/sample - loss: 3.4703 - mae: 3.4703\n",
      "Epoch 19/20\n",
      "13500/13500 [==============================] - 25s 2ms/sample - loss: 3.4684 - mae: 3.4684\n",
      "Epoch 20/20\n",
      "13500/13500 [==============================] - 20s 2ms/sample - loss: 3.4656 - mae: 3.4656\n"
     ]
    }
   ],
   "source": [
    "mosfet.train_leakage(data)"
   ]
  },
  {
   "cell_type": "code",
   "execution_count": 70,
   "id": "64fdc4f6",
   "metadata": {},
   "outputs": [],
   "source": [
    "m1_trained = mosfet.leakage_model\n"
   ]
  },
  {
   "cell_type": "code",
   "execution_count": 71,
   "id": "a334accd",
   "metadata": {},
   "outputs": [
    {
     "data": {
      "image/png": "[encoded data removed]",
      "text/plain": [
       "<Figure size 432x288 with 1 Axes>"
      ]
     },
     "metadata": {
      "needs_background": "light"
     },
     "output_type": "display_data"
    }
   ],
   "source": [
    "plt.plot(np.sqrt(m1_trained.history.history['mae']))\n",
    "plt.show()"
   ]
  },
  {
   "cell_type": "markdown",
   "id": "72c97ae0",
   "metadata": {},
   "source": [
    "## CONCLUSION !!! 🏁"
   ]
  },
  {
   "cell_type": "markdown",
   "id": "7855b490",
   "metadata": {},
   "source": [
    "We can observe, after our training is completed (for all three activation functions), the mean absolute error (mae) that is given after each epoch is finished.\n",
    "\n",
    "We can say that after the full completion of the three trainings, the use of the RELU activation function, is the most suitable for our application, as it gives us the smallest mae (mean absolute error) after the 20th (last) epoch."
   ]
  },
  {
   "cell_type": "code",
   "execution_count": null,
   "id": "2484690f",
   "metadata": {},
   "outputs": [],
   "source": []
  }
 ],
 "metadata": {
  "kernelspec": {
   "display_name": "Python 3 (ipykernel)",
   "language": "python",
   "name": "python3"
  },
  "language_info": {
   "codemirror_mode": {
    "name": "ipython",
    "version": 3
   },
   "file_extension": ".py",
   "mimetype": "text/x-python",
   "name": "python",
   "nbconvert_exporter": "python",
   "pygments_lexer": "ipython3",
   "version": "3.7.11"
  }
 },
 "nbformat": 4,
 "nbformat_minor": 5
}
